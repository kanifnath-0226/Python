{
 "cells": [
  {
   "cell_type": "code",
   "execution_count": 2,
   "metadata": {},
   "outputs": [
    {
     "name": "stdout",
     "output_type": "stream",
     "text": [
      "[28 15 25 22 26 10]\n"
     ]
    }
   ],
   "source": [
    "# Q1) write a numpy program to generatesix random integer between 10 and 30\n",
    "import numpy as np\n",
    "std = np.random.randint(10,30,6)\n",
    "print(std)"
   ]
  },
  {
   "cell_type": "code",
   "execution_count": 12,
   "metadata": {},
   "outputs": [
    {
     "name": "stdout",
     "output_type": "stream",
     "text": [
      "[[20 21 22]\n",
      " [23 24 25]\n",
      " [26 27 28]]\n"
     ]
    }
   ],
   "source": [
    "# Q2) Write a numpy program to create a 3x3 matrix with values ranging from 20 to 28.\n",
    "\n",
    "import numpy as np\n",
    "values = np.arange(20,29)\n",
    "matrix_3x3 = values.reshape(3,3)\n",
    "print(matrix_3x3)"
   ]
  },
  {
   "cell_type": "code",
   "execution_count": 13,
   "metadata": {},
   "outputs": [
    {
     "name": "stdout",
     "output_type": "stream",
     "text": [
      "[ 1.  1.  1.  1.  1. 25.  1.  1.  1.  1.]\n"
     ]
    }
   ],
   "source": [
    "# Q3) Write a numpy program to create a vector filles with !s of size 10 and update the sixth value to 25\n",
    "import numpy as np\n",
    "vector = np.ones(10)\n",
    "vector[5]=25\n",
    "print(vector)"
   ]
  },
  {
   "cell_type": "code",
   "execution_count": 20,
   "metadata": {},
   "outputs": [
    {
     "name": "stdout",
     "output_type": "stream",
     "text": [
      "[ 9 22  1 24  9 10  8 19 24 17]\n",
      "Addition of fourth and seventh element = 32\n"
     ]
    }
   ],
   "source": [
    "# Q4) Write a program to get fourth and seventh elements from the following array and add them\n",
    "import numpy as np\n",
    "arr = np.random.randint(1,25,10)\n",
    "print(arr)\n",
    "add = arr[3] + arr[6]\n",
    "print(\"Addition of fourth and seventh element =\",add)"
   ]
  },
  {
   "cell_type": "code",
   "execution_count": 27,
   "metadata": {},
   "outputs": [
    {
     "name": "stdout",
     "output_type": "stream",
     "text": [
      "[[20 21 22]\n",
      " [23 24 25]\n",
      " [26 27 28]]\n",
      "[21 24 27]\n"
     ]
    }
   ],
   "source": [
    "# Q5) Write a program to get the first three element of the second column of the array\n",
    "import numpy as np\n",
    "matrix_3x3 = np.array([[20,21,22],[23,24,25],[26,27,28]])\n",
    "print(matrix_3x3)\n",
    "\n",
    "print(matrix_3x3[:3,1])"
   ]
  },
  {
   "cell_type": "code",
   "execution_count": 63,
   "metadata": {},
   "outputs": [
    {
     "name": "stdout",
     "output_type": "stream",
     "text": [
      "[[0. 0. 0.]\n",
      " [0. 0. 0.]]\n",
      "[[0 0 0]\n",
      " [0 0 0]\n",
      " [0 0 0]]\n"
     ]
    }
   ],
   "source": [
    "# zeros\n",
    "a = np.zeros([2,3])\n",
    "b = np.zeros([3,3], dtype = int)\n",
    "print(a)\n",
    "print(b)"
   ]
  },
  {
   "cell_type": "code",
   "execution_count": 32,
   "metadata": {},
   "outputs": [
    {
     "name": "stdout",
     "output_type": "stream",
     "text": [
      "[[ 5  7  9]\n",
      " [ 9 11 10]]\n",
      "[[ 5  7  9]\n",
      " [ 9 11 10]]\n",
      "[[ 4 10 18]\n",
      " [ 8 18 21]]\n",
      "[[ 4 10 18]\n",
      " [ 8 18 21]]\n"
     ]
    }
   ],
   "source": [
    "# add ,multiply\n",
    "import numpy as np\n",
    "a1=np.array([1,2,3])\n",
    "a2 = np.array([[4,5,6],[8,9,7]])\n",
    "print(a1+a2)\n",
    "print(a2+a1)\n",
    "print(a1*a2)\n",
    "print(a2*a1)"
   ]
  },
  {
   "cell_type": "code",
   "execution_count": 37,
   "metadata": {},
   "outputs": [
    {
     "name": "stdout",
     "output_type": "stream",
     "text": [
      "[ 1  2  3  4  5  6  7  8  9 10 11 12]\n",
      "[[ 1  2  3  4]\n",
      " [ 5  6  7  8]\n",
      " [ 9 10 11 12]]\n",
      "[[ 1  2  3]\n",
      " [ 4  5  6]\n",
      " [ 7  8  9]\n",
      " [10 11 12]]\n",
      "None\n"
     ]
    }
   ],
   "source": [
    "# arrange and reshape\n",
    "import numpy as np\n",
    "a3 = np.arange(1,13)\n",
    "print(a3)\n",
    "print(a3.reshape(3,4))\n",
    "print(a3.reshape(4,3))\n",
    "print(a3.sort())"
   ]
  },
  {
   "cell_type": "code",
   "execution_count": 61,
   "metadata": {},
   "outputs": [
    {
     "name": "stdout",
     "output_type": "stream",
     "text": [
      "[ 8  7  9  5  0  4 11  2  3]\n",
      "[ 0  2  3  4  5  7  8  9 11]\n",
      "[11  9  8  7  5  4  3  2  0]\n"
     ]
    }
   ],
   "source": [
    "# sort \n",
    "import numpy as np\n",
    "a4 = np.array([8,7,9,5,0,4,11,2,3])\n",
    "print(a4)\n",
    "print(np.sort(a4)) # ascending order\n",
    "\n",
    "print(np.sort(a4)[::-1]) # descending order\n",
    " \n",
    "  \n"
   ]
  },
  {
   "cell_type": "code",
   "execution_count": 60,
   "metadata": {},
   "outputs": [
    {
     "name": "stdout",
     "output_type": "stream",
     "text": [
      "[ 8  7  9  5  0  4 11  2  3]\n",
      "6\n",
      "4\n"
     ]
    }
   ],
   "source": [
    "# argmax,argmin\n",
    "import numpy as np\n",
    "a4 = np.array([8,7,9,5,0,4,11,2,3])\n",
    "print(a4)\n",
    "print(np.argmax(a4))\n",
    "print(np.argmin(a4))"
   ]
  },
  {
   "cell_type": "code",
   "execution_count": 59,
   "metadata": {},
   "outputs": [
    {
     "name": "stdout",
     "output_type": "stream",
     "text": [
      "[ 8  7  9  5  0  4 11  2  3]\n",
      "[ 8  7  9  5  4 11]\n",
      "[ 8  7  9  5  4 11]\n"
     ]
    }
   ],
   "source": [
    "# extract \n",
    "import numpy as np\n",
    "a4 = np.array([8,7,9,5,0,4,11,2,3])\n",
    "print(a4)\n",
    "c = a4 > 3\n",
    " \n",
    "print(np.extract(c,a4))\n",
    "print(np.extract(c,a4))\n"
   ]
  },
  {
   "cell_type": "code",
   "execution_count": 58,
   "metadata": {},
   "outputs": [
    {
     "name": "stdout",
     "output_type": "stream",
     "text": [
      "[ 8  7  9  5  0  4 11  2  3]\n",
      "(array([0, 1, 2, 3, 5, 6], dtype=int64),)\n"
     ]
    }
   ],
   "source": [
    "# where\n",
    "import numpy as np\n",
    "a4 = np.array([8,7,9,5,0,4,11,2,3])\n",
    "print(a4)\n",
    " \n",
    "print(np.where(a4>3))"
   ]
  },
  {
   "cell_type": "code",
   "execution_count": 52,
   "metadata": {},
   "outputs": [
    {
     "name": "stdout",
     "output_type": "stream",
     "text": [
      "[ 8  7  9  5  0  4 11  2  3]\n",
      "[ 1.    3.25  5.5   7.75 10.  ]\n"
     ]
    }
   ],
   "source": [
    "# linspace\n",
    "import numpy as np\n",
    "a4 = np.array([8,7,9,5,0,4,11,2,3])\n",
    "a = np.linspace(1,10,5)\n",
    "print(a4)\n",
    "print(a)"
   ]
  },
  {
   "cell_type": "code",
   "execution_count": 57,
   "metadata": {},
   "outputs": [
    {
     "name": "stdout",
     "output_type": "stream",
     "text": [
      "[[19 22]\n",
      " [43 50]]\n"
     ]
    }
   ],
   "source": [
    "\n",
    "# dot product\n",
    "import numpy as np\n",
    "a = np.array([[1,2],[3,4]])\n",
    "b = np.array([[5,6],[7,8]])\n",
    "\n",
    "result = np.dot(a,b)\n",
    "print(result)"
   ]
  },
  {
   "cell_type": "code",
   "execution_count": 65,
   "metadata": {},
   "outputs": [
    {
     "name": "stdout",
     "output_type": "stream",
     "text": [
      "[ 8  7  9  5  0  4 11  2  3]\n",
      "[ 8  7  9  5  0  4 11  2  3]\n",
      "\n",
      " [45  7  9  5  0  4 11  2  3]\n",
      "\n",
      " [45  7  9  5  0  4 11  2  3]\n"
     ]
    }
   ],
   "source": [
    "# view\n",
    "import numpy as np\n",
    "a4 = np.array([8,7,9,5,0,4,11,2,3])\n",
    "x = a4.view()\n",
    "print(a4)\n",
    "print(x)\n",
    "\n",
    "a4[0] = 45\n",
    "print(\"\\n\",a4)\n",
    "print(\"\\n\",x)\n"
   ]
  }
 ],
 "metadata": {
  "kernelspec": {
   "display_name": "Python 3",
   "language": "python",
   "name": "python3"
  },
  "language_info": {
   "codemirror_mode": {
    "name": "ipython",
    "version": 3
   },
   "file_extension": ".py",
   "mimetype": "text/x-python",
   "name": "python",
   "nbconvert_exporter": "python",
   "pygments_lexer": "ipython3",
   "version": "3.12.0"
  }
 },
 "nbformat": 4,
 "nbformat_minor": 2
}
