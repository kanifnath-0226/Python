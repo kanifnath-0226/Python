{
 "cells": [
  {
   "cell_type": "markdown",
   "id": "5efa06ee",
   "metadata": {},
   "source": [
    "#### Import the libraries"
   ]
  },
  {
   "cell_type": "code",
   "execution_count": 28,
   "id": "b6d99c31",
   "metadata": {},
   "outputs": [],
   "source": [
    "import pandas as pd\n",
    "import numpy as np\n",
    "\n",
    "import matplotlib.pyplot as plt  # visualization"
   ]
  },
  {
   "cell_type": "code",
   "execution_count": 20,
   "id": "339f8450",
   "metadata": {},
   "outputs": [
    {
     "data": {
      "text/html": [
       "<div>\n",
       "<style scoped>\n",
       "    .dataframe tbody tr th:only-of-type {\n",
       "        vertical-align: middle;\n",
       "    }\n",
       "\n",
       "    .dataframe tbody tr th {\n",
       "        vertical-align: top;\n",
       "    }\n",
       "\n",
       "    .dataframe thead th {\n",
       "        text-align: right;\n",
       "    }\n",
       "</style>\n",
       "<table border=\"1\" class=\"dataframe\">\n",
       "  <thead>\n",
       "    <tr style=\"text-align: right;\">\n",
       "      <th></th>\n",
       "      <th>Prod</th>\n",
       "      <th>Region</th>\n",
       "      <th>Sales</th>\n",
       "      <th>Profit_Percent</th>\n",
       "    </tr>\n",
       "  </thead>\n",
       "  <tbody>\n",
       "    <tr>\n",
       "      <th>0</th>\n",
       "      <td>A</td>\n",
       "      <td>Delhi</td>\n",
       "      <td>36925</td>\n",
       "      <td>15</td>\n",
       "    </tr>\n",
       "    <tr>\n",
       "      <th>1</th>\n",
       "      <td>A</td>\n",
       "      <td>Mumbai</td>\n",
       "      <td>42442</td>\n",
       "      <td>8</td>\n",
       "    </tr>\n",
       "    <tr>\n",
       "      <th>2</th>\n",
       "      <td>A</td>\n",
       "      <td>Chennai</td>\n",
       "      <td>74497</td>\n",
       "      <td>25</td>\n",
       "    </tr>\n",
       "    <tr>\n",
       "      <th>3</th>\n",
       "      <td>B</td>\n",
       "      <td>Delhi</td>\n",
       "      <td>78462</td>\n",
       "      <td>12</td>\n",
       "    </tr>\n",
       "    <tr>\n",
       "      <th>4</th>\n",
       "      <td>B</td>\n",
       "      <td>Mumbai</td>\n",
       "      <td>69387</td>\n",
       "      <td>23</td>\n",
       "    </tr>\n",
       "    <tr>\n",
       "      <th>5</th>\n",
       "      <td>B</td>\n",
       "      <td>Chennai</td>\n",
       "      <td>37257</td>\n",
       "      <td>14</td>\n",
       "    </tr>\n",
       "    <tr>\n",
       "      <th>6</th>\n",
       "      <td>C</td>\n",
       "      <td>Delhi</td>\n",
       "      <td>74854</td>\n",
       "      <td>11</td>\n",
       "    </tr>\n",
       "    <tr>\n",
       "      <th>7</th>\n",
       "      <td>C</td>\n",
       "      <td>Mumbai</td>\n",
       "      <td>50956</td>\n",
       "      <td>21</td>\n",
       "    </tr>\n",
       "    <tr>\n",
       "      <th>8</th>\n",
       "      <td>C</td>\n",
       "      <td>Chennai</td>\n",
       "      <td>62114</td>\n",
       "      <td>15</td>\n",
       "    </tr>\n",
       "    <tr>\n",
       "      <th>9</th>\n",
       "      <td>D</td>\n",
       "      <td>Delhi</td>\n",
       "      <td>76068</td>\n",
       "      <td>19</td>\n",
       "    </tr>\n",
       "    <tr>\n",
       "      <th>10</th>\n",
       "      <td>D</td>\n",
       "      <td>Mumbai</td>\n",
       "      <td>34082</td>\n",
       "      <td>18</td>\n",
       "    </tr>\n",
       "    <tr>\n",
       "      <th>11</th>\n",
       "      <td>D</td>\n",
       "      <td>Chennai</td>\n",
       "      <td>70387</td>\n",
       "      <td>14</td>\n",
       "    </tr>\n",
       "    <tr>\n",
       "      <th>12</th>\n",
       "      <td>E</td>\n",
       "      <td>Delhi</td>\n",
       "      <td>36429</td>\n",
       "      <td>9</td>\n",
       "    </tr>\n",
       "    <tr>\n",
       "      <th>13</th>\n",
       "      <td>E</td>\n",
       "      <td>Mumbai</td>\n",
       "      <td>31439</td>\n",
       "      <td>18</td>\n",
       "    </tr>\n",
       "    <tr>\n",
       "      <th>14</th>\n",
       "      <td>E</td>\n",
       "      <td>Chennai</td>\n",
       "      <td>67347</td>\n",
       "      <td>21</td>\n",
       "    </tr>\n",
       "  </tbody>\n",
       "</table>\n",
       "</div>"
      ],
      "text/plain": [
       "   Prod   Region  Sales  Profit_Percent\n",
       "0     A    Delhi  36925              15\n",
       "1     A   Mumbai  42442               8\n",
       "2     A  Chennai  74497              25\n",
       "3     B    Delhi  78462              12\n",
       "4     B   Mumbai  69387              23\n",
       "5     B  Chennai  37257              14\n",
       "6     C    Delhi  74854              11\n",
       "7     C   Mumbai  50956              21\n",
       "8     C  Chennai  62114              15\n",
       "9     D    Delhi  76068              19\n",
       "10    D   Mumbai  34082              18\n",
       "11    D  Chennai  70387              14\n",
       "12    E    Delhi  36429               9\n",
       "13    E   Mumbai  31439              18\n",
       "14    E  Chennai  67347              21"
      ]
     },
     "execution_count": 20,
     "metadata": {},
     "output_type": "execute_result"
    }
   ],
   "source": [
    "prod = pd.DataFrame({'Prod':['A']*3+['B']*3+['C']*3+['D']*3+['E']*3,\n",
    "                     'Region':['Delhi','Mumbai','Chennai']*5,\n",
    "     'Sales':np.random.randint(30000,80000,15),\n",
    "     'Profit_Percent':np.random.randint(8,30,15)})\n",
    "\n",
    "prod"
   ]
  },
  {
   "cell_type": "markdown",
   "id": "56a7a85e",
   "metadata": {},
   "source": [
    "### 1) Filtering"
   ]
  },
  {
   "cell_type": "markdown",
   "id": "174fe533",
   "metadata": {},
   "source": [
    "#### Q1) Find the dataset for Delhi Region?"
   ]
  },
  {
   "cell_type": "code",
   "execution_count": 21,
   "id": "c960377c",
   "metadata": {},
   "outputs": [
    {
     "data": {
      "text/html": [
       "<div>\n",
       "<style scoped>\n",
       "    .dataframe tbody tr th:only-of-type {\n",
       "        vertical-align: middle;\n",
       "    }\n",
       "\n",
       "    .dataframe tbody tr th {\n",
       "        vertical-align: top;\n",
       "    }\n",
       "\n",
       "    .dataframe thead th {\n",
       "        text-align: right;\n",
       "    }\n",
       "</style>\n",
       "<table border=\"1\" class=\"dataframe\">\n",
       "  <thead>\n",
       "    <tr style=\"text-align: right;\">\n",
       "      <th></th>\n",
       "      <th>Prod</th>\n",
       "      <th>Region</th>\n",
       "      <th>Sales</th>\n",
       "      <th>Profit_Percent</th>\n",
       "    </tr>\n",
       "  </thead>\n",
       "  <tbody>\n",
       "    <tr>\n",
       "      <th>0</th>\n",
       "      <td>A</td>\n",
       "      <td>Delhi</td>\n",
       "      <td>36925</td>\n",
       "      <td>15</td>\n",
       "    </tr>\n",
       "    <tr>\n",
       "      <th>3</th>\n",
       "      <td>B</td>\n",
       "      <td>Delhi</td>\n",
       "      <td>78462</td>\n",
       "      <td>12</td>\n",
       "    </tr>\n",
       "    <tr>\n",
       "      <th>6</th>\n",
       "      <td>C</td>\n",
       "      <td>Delhi</td>\n",
       "      <td>74854</td>\n",
       "      <td>11</td>\n",
       "    </tr>\n",
       "    <tr>\n",
       "      <th>9</th>\n",
       "      <td>D</td>\n",
       "      <td>Delhi</td>\n",
       "      <td>76068</td>\n",
       "      <td>19</td>\n",
       "    </tr>\n",
       "    <tr>\n",
       "      <th>12</th>\n",
       "      <td>E</td>\n",
       "      <td>Delhi</td>\n",
       "      <td>36429</td>\n",
       "      <td>9</td>\n",
       "    </tr>\n",
       "  </tbody>\n",
       "</table>\n",
       "</div>"
      ],
      "text/plain": [
       "   Prod Region  Sales  Profit_Percent\n",
       "0     A  Delhi  36925              15\n",
       "3     B  Delhi  78462              12\n",
       "6     C  Delhi  74854              11\n",
       "9     D  Delhi  76068              19\n",
       "12    E  Delhi  36429               9"
      ]
     },
     "execution_count": 21,
     "metadata": {},
     "output_type": "execute_result"
    }
   ],
   "source": [
    "prod[prod['Region']=='Delhi']"
   ]
  },
  {
   "cell_type": "markdown",
   "id": "a8bfebeb",
   "metadata": {},
   "source": [
    "#### Q2) Find the dataset for Mumbai Region where Sales > 50000?"
   ]
  },
  {
   "cell_type": "code",
   "execution_count": 22,
   "id": "dd39d18d",
   "metadata": {},
   "outputs": [
    {
     "data": {
      "text/html": [
       "<div>\n",
       "<style scoped>\n",
       "    .dataframe tbody tr th:only-of-type {\n",
       "        vertical-align: middle;\n",
       "    }\n",
       "\n",
       "    .dataframe tbody tr th {\n",
       "        vertical-align: top;\n",
       "    }\n",
       "\n",
       "    .dataframe thead th {\n",
       "        text-align: right;\n",
       "    }\n",
       "</style>\n",
       "<table border=\"1\" class=\"dataframe\">\n",
       "  <thead>\n",
       "    <tr style=\"text-align: right;\">\n",
       "      <th></th>\n",
       "      <th>Prod</th>\n",
       "      <th>Region</th>\n",
       "      <th>Sales</th>\n",
       "      <th>Profit_Percent</th>\n",
       "    </tr>\n",
       "  </thead>\n",
       "  <tbody>\n",
       "    <tr>\n",
       "      <th>4</th>\n",
       "      <td>B</td>\n",
       "      <td>Mumbai</td>\n",
       "      <td>69387</td>\n",
       "      <td>23</td>\n",
       "    </tr>\n",
       "    <tr>\n",
       "      <th>7</th>\n",
       "      <td>C</td>\n",
       "      <td>Mumbai</td>\n",
       "      <td>50956</td>\n",
       "      <td>21</td>\n",
       "    </tr>\n",
       "  </tbody>\n",
       "</table>\n",
       "</div>"
      ],
      "text/plain": [
       "  Prod  Region  Sales  Profit_Percent\n",
       "4    B  Mumbai  69387              23\n",
       "7    C  Mumbai  50956              21"
      ]
     },
     "execution_count": 22,
     "metadata": {},
     "output_type": "execute_result"
    }
   ],
   "source": [
    "prod[(prod['Region']=='Mumbai') & (prod['Sales']>50000)]"
   ]
  },
  {
   "cell_type": "markdown",
   "id": "e08be68e",
   "metadata": {},
   "source": [
    "#### Q3) Filter the prod details where \n",
    "a) Region is either Chennai or Mumbai.<br>\n",
    "b) Region is either Chennai or Mumbai and Sales > 60000.\n"
   ]
  },
  {
   "cell_type": "code",
   "execution_count": 26,
   "id": "049a04c0",
   "metadata": {},
   "outputs": [
    {
     "data": {
      "text/html": [
       "<div>\n",
       "<style scoped>\n",
       "    .dataframe tbody tr th:only-of-type {\n",
       "        vertical-align: middle;\n",
       "    }\n",
       "\n",
       "    .dataframe tbody tr th {\n",
       "        vertical-align: top;\n",
       "    }\n",
       "\n",
       "    .dataframe thead th {\n",
       "        text-align: right;\n",
       "    }\n",
       "</style>\n",
       "<table border=\"1\" class=\"dataframe\">\n",
       "  <thead>\n",
       "    <tr style=\"text-align: right;\">\n",
       "      <th></th>\n",
       "      <th>Prod</th>\n",
       "      <th>Region</th>\n",
       "      <th>Sales</th>\n",
       "      <th>Profit_Percent</th>\n",
       "    </tr>\n",
       "  </thead>\n",
       "  <tbody>\n",
       "    <tr>\n",
       "      <th>1</th>\n",
       "      <td>A</td>\n",
       "      <td>Mumbai</td>\n",
       "      <td>42442</td>\n",
       "      <td>8</td>\n",
       "    </tr>\n",
       "    <tr>\n",
       "      <th>2</th>\n",
       "      <td>A</td>\n",
       "      <td>Chennai</td>\n",
       "      <td>74497</td>\n",
       "      <td>25</td>\n",
       "    </tr>\n",
       "    <tr>\n",
       "      <th>4</th>\n",
       "      <td>B</td>\n",
       "      <td>Mumbai</td>\n",
       "      <td>69387</td>\n",
       "      <td>23</td>\n",
       "    </tr>\n",
       "    <tr>\n",
       "      <th>5</th>\n",
       "      <td>B</td>\n",
       "      <td>Chennai</td>\n",
       "      <td>37257</td>\n",
       "      <td>14</td>\n",
       "    </tr>\n",
       "    <tr>\n",
       "      <th>7</th>\n",
       "      <td>C</td>\n",
       "      <td>Mumbai</td>\n",
       "      <td>50956</td>\n",
       "      <td>21</td>\n",
       "    </tr>\n",
       "    <tr>\n",
       "      <th>8</th>\n",
       "      <td>C</td>\n",
       "      <td>Chennai</td>\n",
       "      <td>62114</td>\n",
       "      <td>15</td>\n",
       "    </tr>\n",
       "    <tr>\n",
       "      <th>10</th>\n",
       "      <td>D</td>\n",
       "      <td>Mumbai</td>\n",
       "      <td>34082</td>\n",
       "      <td>18</td>\n",
       "    </tr>\n",
       "    <tr>\n",
       "      <th>11</th>\n",
       "      <td>D</td>\n",
       "      <td>Chennai</td>\n",
       "      <td>70387</td>\n",
       "      <td>14</td>\n",
       "    </tr>\n",
       "    <tr>\n",
       "      <th>13</th>\n",
       "      <td>E</td>\n",
       "      <td>Mumbai</td>\n",
       "      <td>31439</td>\n",
       "      <td>18</td>\n",
       "    </tr>\n",
       "    <tr>\n",
       "      <th>14</th>\n",
       "      <td>E</td>\n",
       "      <td>Chennai</td>\n",
       "      <td>67347</td>\n",
       "      <td>21</td>\n",
       "    </tr>\n",
       "  </tbody>\n",
       "</table>\n",
       "</div>"
      ],
      "text/plain": [
       "   Prod   Region  Sales  Profit_Percent\n",
       "1     A   Mumbai  42442               8\n",
       "2     A  Chennai  74497              25\n",
       "4     B   Mumbai  69387              23\n",
       "5     B  Chennai  37257              14\n",
       "7     C   Mumbai  50956              21\n",
       "8     C  Chennai  62114              15\n",
       "10    D   Mumbai  34082              18\n",
       "11    D  Chennai  70387              14\n",
       "13    E   Mumbai  31439              18\n",
       "14    E  Chennai  67347              21"
      ]
     },
     "execution_count": 26,
     "metadata": {},
     "output_type": "execute_result"
    }
   ],
   "source": [
    "# prod[(prod['Region']=='Chennai') | (prod['Region']=='Mumbai')]\n",
    "\n",
    "# OR\n",
    "\n",
    "prod[prod['Region'].isin(['Chennai','Mumbai'])]"
   ]
  },
  {
   "cell_type": "code",
   "execution_count": 27,
   "id": "36a646f8",
   "metadata": {},
   "outputs": [
    {
     "data": {
      "text/html": [
       "<div>\n",
       "<style scoped>\n",
       "    .dataframe tbody tr th:only-of-type {\n",
       "        vertical-align: middle;\n",
       "    }\n",
       "\n",
       "    .dataframe tbody tr th {\n",
       "        vertical-align: top;\n",
       "    }\n",
       "\n",
       "    .dataframe thead th {\n",
       "        text-align: right;\n",
       "    }\n",
       "</style>\n",
       "<table border=\"1\" class=\"dataframe\">\n",
       "  <thead>\n",
       "    <tr style=\"text-align: right;\">\n",
       "      <th></th>\n",
       "      <th>Prod</th>\n",
       "      <th>Region</th>\n",
       "      <th>Sales</th>\n",
       "      <th>Profit_Percent</th>\n",
       "    </tr>\n",
       "  </thead>\n",
       "  <tbody>\n",
       "    <tr>\n",
       "      <th>2</th>\n",
       "      <td>A</td>\n",
       "      <td>Chennai</td>\n",
       "      <td>74497</td>\n",
       "      <td>25</td>\n",
       "    </tr>\n",
       "    <tr>\n",
       "      <th>4</th>\n",
       "      <td>B</td>\n",
       "      <td>Mumbai</td>\n",
       "      <td>69387</td>\n",
       "      <td>23</td>\n",
       "    </tr>\n",
       "    <tr>\n",
       "      <th>8</th>\n",
       "      <td>C</td>\n",
       "      <td>Chennai</td>\n",
       "      <td>62114</td>\n",
       "      <td>15</td>\n",
       "    </tr>\n",
       "    <tr>\n",
       "      <th>11</th>\n",
       "      <td>D</td>\n",
       "      <td>Chennai</td>\n",
       "      <td>70387</td>\n",
       "      <td>14</td>\n",
       "    </tr>\n",
       "    <tr>\n",
       "      <th>14</th>\n",
       "      <td>E</td>\n",
       "      <td>Chennai</td>\n",
       "      <td>67347</td>\n",
       "      <td>21</td>\n",
       "    </tr>\n",
       "  </tbody>\n",
       "</table>\n",
       "</div>"
      ],
      "text/plain": [
       "   Prod   Region  Sales  Profit_Percent\n",
       "2     A  Chennai  74497              25\n",
       "4     B   Mumbai  69387              23\n",
       "8     C  Chennai  62114              15\n",
       "11    D  Chennai  70387              14\n",
       "14    E  Chennai  67347              21"
      ]
     },
     "execution_count": 27,
     "metadata": {},
     "output_type": "execute_result"
    }
   ],
   "source": [
    "prod[(prod['Region'].isin(['Chennai','Mumbai'])) & (prod['Sales']>60000)]"
   ]
  },
  {
   "cell_type": "markdown",
   "id": "af8a5e08",
   "metadata": {},
   "source": [
    "### Visualization"
   ]
  },
  {
   "cell_type": "code",
   "execution_count": 32,
   "id": "48174bce",
   "metadata": {},
   "outputs": [],
   "source": [
    "import matplotlib.pyplot as plt"
   ]
  },
  {
   "cell_type": "markdown",
   "id": "26e6cc52",
   "metadata": {},
   "source": [
    "#### 1) Display Sum of Sales for each region on Bar Chart"
   ]
  },
  {
   "cell_type": "code",
   "execution_count": 29,
   "id": "eb138965",
   "metadata": {},
   "outputs": [
    {
     "data": {
      "text/html": [
       "<div>\n",
       "<style scoped>\n",
       "    .dataframe tbody tr th:only-of-type {\n",
       "        vertical-align: middle;\n",
       "    }\n",
       "\n",
       "    .dataframe tbody tr th {\n",
       "        vertical-align: top;\n",
       "    }\n",
       "\n",
       "    .dataframe thead th {\n",
       "        text-align: right;\n",
       "    }\n",
       "</style>\n",
       "<table border=\"1\" class=\"dataframe\">\n",
       "  <thead>\n",
       "    <tr style=\"text-align: right;\">\n",
       "      <th></th>\n",
       "      <th>Prod</th>\n",
       "      <th>Region</th>\n",
       "      <th>Sales</th>\n",
       "      <th>Profit_Percent</th>\n",
       "    </tr>\n",
       "  </thead>\n",
       "  <tbody>\n",
       "    <tr>\n",
       "      <th>0</th>\n",
       "      <td>A</td>\n",
       "      <td>Delhi</td>\n",
       "      <td>36925</td>\n",
       "      <td>15</td>\n",
       "    </tr>\n",
       "    <tr>\n",
       "      <th>1</th>\n",
       "      <td>A</td>\n",
       "      <td>Mumbai</td>\n",
       "      <td>42442</td>\n",
       "      <td>8</td>\n",
       "    </tr>\n",
       "    <tr>\n",
       "      <th>2</th>\n",
       "      <td>A</td>\n",
       "      <td>Chennai</td>\n",
       "      <td>74497</td>\n",
       "      <td>25</td>\n",
       "    </tr>\n",
       "    <tr>\n",
       "      <th>3</th>\n",
       "      <td>B</td>\n",
       "      <td>Delhi</td>\n",
       "      <td>78462</td>\n",
       "      <td>12</td>\n",
       "    </tr>\n",
       "    <tr>\n",
       "      <th>4</th>\n",
       "      <td>B</td>\n",
       "      <td>Mumbai</td>\n",
       "      <td>69387</td>\n",
       "      <td>23</td>\n",
       "    </tr>\n",
       "  </tbody>\n",
       "</table>\n",
       "</div>"
      ],
      "text/plain": [
       "  Prod   Region  Sales  Profit_Percent\n",
       "0    A    Delhi  36925              15\n",
       "1    A   Mumbai  42442               8\n",
       "2    A  Chennai  74497              25\n",
       "3    B    Delhi  78462              12\n",
       "4    B   Mumbai  69387              23"
      ]
     },
     "execution_count": 29,
     "metadata": {},
     "output_type": "execute_result"
    }
   ],
   "source": [
    "prod.head()"
   ]
  },
  {
   "cell_type": "code",
   "execution_count": 30,
   "id": "19c5d0c1",
   "metadata": {},
   "outputs": [
    {
     "data": {
      "text/plain": [
       "Region\n",
       "Chennai    311602\n",
       "Delhi      302738\n",
       "Mumbai     228306\n",
       "Name: Sales, dtype: int32"
      ]
     },
     "execution_count": 30,
     "metadata": {},
     "output_type": "execute_result"
    }
   ],
   "source": [
    "q1 = prod.groupby(['Region'])['Sales'].sum()\n",
    "q1"
   ]
  },
  {
   "cell_type": "code",
   "execution_count": 31,
   "id": "19b26a1d",
   "metadata": {},
   "outputs": [
    {
     "name": "stdout",
     "output_type": "stream",
     "text": [
      "Index(['Chennai', 'Delhi', 'Mumbai'], dtype='object', name='Region')\n",
      "[311602 302738 228306]\n"
     ]
    }
   ],
   "source": [
    "print(q1.index)\n",
    "print(q1.values)"
   ]
  },
  {
   "cell_type": "code",
   "execution_count": 46,
   "id": "58248623",
   "metadata": {},
   "outputs": [
    {
     "data": {
      "image/png": "[encoded data removed]",
      "text/plain": [
       "<Figure size 640x480 with 1 Axes>"
      ]
     },
     "metadata": {},
     "output_type": "display_data"
    }
   ],
   "source": [
    "# plt.bar(x,y)\n",
    "plt.bar(q1.index,q1.values,color='orange',width=0.4,edgecolor='black')\n",
    "plt.xlabel('Region',color='maroon',size=13)\n",
    "plt.ylabel('SumSales',color='maroon',size=13)\n",
    "plt.title('Region wise sum of Sales',size=15,color='blue')\n",
    "plt.show()"
   ]
  },
  {
   "cell_type": "markdown",
   "id": "569cff70",
   "metadata": {},
   "source": [
    "#### Horizontal Bar Chart"
   ]
  },
  {
   "cell_type": "code",
   "execution_count": 49,
   "id": "1cfd5337",
   "metadata": {},
   "outputs": [
    {
     "data": {
      "image/png": "[encoded data removed]",
      "text/plain": [
       "<Figure size 640x480 with 1 Axes>"
      ]
     },
     "metadata": {},
     "output_type": "display_data"
    }
   ],
   "source": [
    "plt.barh(q1.index,q1.values,color='orange',edgecolor='black')\n",
    "plt.ylabel('Region',color='maroon',size=13)\n",
    "plt.xlabel('SumSales',color='maroon',size=13)\n",
    "plt.title('Region wise sum of Sales',size=15,color='blue')\n",
    "plt.show()"
   ]
  },
  {
   "cell_type": "code",
   "execution_count": 51,
   "id": "f46e3dde",
   "metadata": {},
   "outputs": [
    {
     "data": {
      "text/plain": [
       "Index(['Prod', 'Region', 'Sales', 'Profit_Percent'], dtype='object')"
      ]
     },
     "execution_count": 51,
     "metadata": {},
     "output_type": "execute_result"
    }
   ],
   "source": [
    "prod.columns"
   ]
  },
  {
   "cell_type": "markdown",
   "id": "70ec37fb",
   "metadata": {},
   "source": [
    "#### 1) Display Sum of Sales and Avg profit for each Region on Bar Chart"
   ]
  },
  {
   "cell_type": "code",
   "execution_count": 68,
   "id": "a2a17425",
   "metadata": {},
   "outputs": [
    {
     "data": {
      "text/html": [
       "<div>\n",
       "<style scoped>\n",
       "    .dataframe tbody tr th:only-of-type {\n",
       "        vertical-align: middle;\n",
       "    }\n",
       "\n",
       "    .dataframe tbody tr th {\n",
       "        vertical-align: top;\n",
       "    }\n",
       "\n",
       "    .dataframe thead th {\n",
       "        text-align: right;\n",
       "    }\n",
       "</style>\n",
       "<table border=\"1\" class=\"dataframe\">\n",
       "  <thead>\n",
       "    <tr style=\"text-align: right;\">\n",
       "      <th></th>\n",
       "      <th>Sales</th>\n",
       "      <th>Profit_Percent</th>\n",
       "    </tr>\n",
       "    <tr>\n",
       "      <th>Region</th>\n",
       "      <th></th>\n",
       "      <th></th>\n",
       "    </tr>\n",
       "  </thead>\n",
       "  <tbody>\n",
       "    <tr>\n",
       "      <th>Chennai</th>\n",
       "      <td>311602</td>\n",
       "      <td>17.8</td>\n",
       "    </tr>\n",
       "    <tr>\n",
       "      <th>Delhi</th>\n",
       "      <td>302738</td>\n",
       "      <td>13.2</td>\n",
       "    </tr>\n",
       "    <tr>\n",
       "      <th>Mumbai</th>\n",
       "      <td>228306</td>\n",
       "      <td>17.6</td>\n",
       "    </tr>\n",
       "  </tbody>\n",
       "</table>\n",
       "</div>"
      ],
      "text/plain": [
       "          Sales  Profit_Percent\n",
       "Region                         \n",
       "Chennai  311602            17.8\n",
       "Delhi    302738            13.2\n",
       "Mumbai   228306            17.6"
      ]
     },
     "execution_count": 68,
     "metadata": {},
     "output_type": "execute_result"
    }
   ],
   "source": [
    "a2 = prod.groupby(['Region']).agg({'Sales':'sum','Profit_Percent':'mean'})\n",
    "a2"
   ]
  },
  {
   "cell_type": "code",
   "execution_count": 69,
   "id": "a46d8785",
   "metadata": {},
   "outputs": [
    {
     "data": {
      "text/html": [
       "<div>\n",
       "<style scoped>\n",
       "    .dataframe tbody tr th:only-of-type {\n",
       "        vertical-align: middle;\n",
       "    }\n",
       "\n",
       "    .dataframe tbody tr th {\n",
       "        vertical-align: top;\n",
       "    }\n",
       "\n",
       "    .dataframe thead th {\n",
       "        text-align: right;\n",
       "    }\n",
       "</style>\n",
       "<table border=\"1\" class=\"dataframe\">\n",
       "  <thead>\n",
       "    <tr style=\"text-align: right;\">\n",
       "      <th></th>\n",
       "      <th>Sales</th>\n",
       "      <th>Profit_Percent</th>\n",
       "      <th>Sales(10K)</th>\n",
       "    </tr>\n",
       "    <tr>\n",
       "      <th>Region</th>\n",
       "      <th></th>\n",
       "      <th></th>\n",
       "      <th></th>\n",
       "    </tr>\n",
       "  </thead>\n",
       "  <tbody>\n",
       "    <tr>\n",
       "      <th>Chennai</th>\n",
       "      <td>311602</td>\n",
       "      <td>17.8</td>\n",
       "      <td>31.1602</td>\n",
       "    </tr>\n",
       "    <tr>\n",
       "      <th>Delhi</th>\n",
       "      <td>302738</td>\n",
       "      <td>13.2</td>\n",
       "      <td>30.2738</td>\n",
       "    </tr>\n",
       "    <tr>\n",
       "      <th>Mumbai</th>\n",
       "      <td>228306</td>\n",
       "      <td>17.6</td>\n",
       "      <td>22.8306</td>\n",
       "    </tr>\n",
       "  </tbody>\n",
       "</table>\n",
       "</div>"
      ],
      "text/plain": [
       "          Sales  Profit_Percent  Sales(10K)\n",
       "Region                                     \n",
       "Chennai  311602            17.8     31.1602\n",
       "Delhi    302738            13.2     30.2738\n",
       "Mumbai   228306            17.6     22.8306"
      ]
     },
     "execution_count": 69,
     "metadata": {},
     "output_type": "execute_result"
    }
   ],
   "source": [
    "a2['Sales(10K)'] = a2['Sales']/10000\n",
    "a2"
   ]
  },
  {
   "cell_type": "code",
   "execution_count": 56,
   "id": "36e5e835",
   "metadata": {},
   "outputs": [
    {
     "name": "stdout",
     "output_type": "stream",
     "text": [
      "Index(['Chennai', 'Delhi', 'Mumbai'], dtype='object', name='Region')\n"
     ]
    }
   ],
   "source": [
    "print(a2.index)"
   ]
  },
  {
   "cell_type": "markdown",
   "id": "e52399bb",
   "metadata": {},
   "source": [
    "#### Stacked bar Chart"
   ]
  },
  {
   "cell_type": "code",
   "execution_count": 86,
   "id": "c7a05040",
   "metadata": {},
   "outputs": [
    {
     "data": {
      "image/png": "[encoded data removed]",
      "text/plain": [
       "<Figure size 640x480 with 1 Axes>"
      ]
     },
     "metadata": {},
     "output_type": "display_data"
    }
   ],
   "source": [
    "# alpha = transparency\n",
    "plt.bar(a2.index,a2['Sales(10K)'],alpha=0.8,label='Sales',edgecolor='black')\n",
    "plt.bar(a2.index,a2['Profit_Percent'],label='Profit',edgecolor='maroon')\n",
    "plt.legend()\n",
    "plt.xticks(rotation=60)\n",
    "plt.ylim(0,40) #\n",
    "plt.show()"
   ]
  },
  {
   "cell_type": "code",
   "execution_count": 76,
   "id": "2c1d8dc2",
   "metadata": {},
   "outputs": [
    {
     "data": {
      "text/html": [
       "<div>\n",
       "<style scoped>\n",
       "    .dataframe tbody tr th:only-of-type {\n",
       "        vertical-align: middle;\n",
       "    }\n",
       "\n",
       "    .dataframe tbody tr th {\n",
       "        vertical-align: top;\n",
       "    }\n",
       "\n",
       "    .dataframe thead th {\n",
       "        text-align: right;\n",
       "    }\n",
       "</style>\n",
       "<table border=\"1\" class=\"dataframe\">\n",
       "  <thead>\n",
       "    <tr style=\"text-align: right;\">\n",
       "      <th></th>\n",
       "      <th>Sales(10K)</th>\n",
       "      <th>Profit_Percent</th>\n",
       "    </tr>\n",
       "    <tr>\n",
       "      <th>Region</th>\n",
       "      <th></th>\n",
       "      <th></th>\n",
       "    </tr>\n",
       "  </thead>\n",
       "  <tbody>\n",
       "    <tr>\n",
       "      <th>Chennai</th>\n",
       "      <td>31.1602</td>\n",
       "      <td>17.8</td>\n",
       "    </tr>\n",
       "    <tr>\n",
       "      <th>Delhi</th>\n",
       "      <td>30.2738</td>\n",
       "      <td>13.2</td>\n",
       "    </tr>\n",
       "    <tr>\n",
       "      <th>Mumbai</th>\n",
       "      <td>22.8306</td>\n",
       "      <td>17.6</td>\n",
       "    </tr>\n",
       "  </tbody>\n",
       "</table>\n",
       "</div>"
      ],
      "text/plain": [
       "         Sales(10K)  Profit_Percent\n",
       "Region                             \n",
       "Chennai     31.1602            17.8\n",
       "Delhi       30.2738            13.2\n",
       "Mumbai      22.8306            17.6"
      ]
     },
     "execution_count": 76,
     "metadata": {},
     "output_type": "execute_result"
    }
   ],
   "source": [
    "a3 = a2[['Sales(10K)','Profit_Percent']]\n",
    "a3"
   ]
  },
  {
   "cell_type": "markdown",
   "id": "bdc4907c",
   "metadata": {},
   "source": [
    "#### Pandas Plots"
   ]
  },
  {
   "cell_type": "code",
   "execution_count": 78,
   "id": "704b3c90",
   "metadata": {},
   "outputs": [
    {
     "data": {
      "image/png": "[encoded data removed]",
      "text/plain": [
       "<Figure size 640x480 with 1 Axes>"
      ]
     },
     "metadata": {},
     "output_type": "display_data"
    }
   ],
   "source": [
    "a3.plot(kind='bar')\n",
    "plt.show()"
   ]
  },
  {
   "cell_type": "code",
   "execution_count": 82,
   "id": "6b84d8f2",
   "metadata": {},
   "outputs": [
    {
     "data": {
      "image/png": "[encoded data removed]",
      "text/plain": [
       "<Figure size 640x480 with 1 Axes>"
      ]
     },
     "metadata": {},
     "output_type": "display_data"
    }
   ],
   "source": [
    "plt.bar([10,20,30],[10,20,30],color='orange',alpha=0.2)\n",
    "plt.bar([10,20,30],[10,20,30],color='blue')\n",
    "plt.show()"
   ]
  },
  {
   "cell_type": "markdown",
   "id": "9c46c739",
   "metadata": {},
   "source": [
    "#### 2) Depict Prod wise Avg Sales of Line Chart"
   ]
  },
  {
   "cell_type": "code",
   "execution_count": 87,
   "id": "58f664ae",
   "metadata": {},
   "outputs": [
    {
     "data": {
      "text/plain": [
       "Prod\n",
       "A    51288.000000\n",
       "B    61702.000000\n",
       "C    62641.333333\n",
       "D    60179.000000\n",
       "E    45071.666667\n",
       "Name: Sales, dtype: float64"
      ]
     },
     "execution_count": 87,
     "metadata": {},
     "output_type": "execute_result"
    }
   ],
   "source": [
    "a2 = prod.groupby(['Prod'])['Sales'].mean()\n",
    "a2"
   ]
  },
  {
   "cell_type": "code",
   "execution_count": 100,
   "id": "a46f4841",
   "metadata": {},
   "outputs": [
    {
     "data": {
      "image/png": "[encoded data removed]",
      "text/plain": [
       "<Figure size 640x480 with 1 Axes>"
      ]
     },
     "metadata": {},
     "output_type": "display_data"
    }
   ],
   "source": [
    "# marker = o,1,2,3,+,d,D,<,>,^,*\n",
    "# lw = linewidth\n",
    "# mfc = marker face color\n",
    "# linestyle - dotted, dashed\n",
    "plt.plot(a2.index,a2.values,marker='o',lw=3,markersize=10,mfc='red',linestyle='dashed',\n",
    "         color='green')\n",
    "plt.title('Prod wise Avg Sales')\n",
    "plt.xlabel('Prod names')\n",
    "plt.ylabel('Mean Sales')\n",
    "plt.show()"
   ]
  },
  {
   "cell_type": "code",
   "execution_count": 101,
   "id": "900c1984",
   "metadata": {},
   "outputs": [
    {
     "data": {
      "image/png": "[encoded data removed]",
      "text/plain": [
       "<Figure size 640x480 with 1 Axes>"
      ]
     },
     "metadata": {},
     "output_type": "display_data"
    }
   ],
   "source": [
    "plt.bar(a2.index,a2.values,color='tan',edgecolor='black')\n",
    "plt.plot(a2.index,a2.values,marker='o',lw=3,markersize=10,mfc='red',linestyle='dashed',\n",
    "         color='green')\n",
    "plt.title('Prod wise Avg Sales')\n",
    "plt.xlabel('Prod names')\n",
    "plt.ylabel('Mean Sales')\n",
    "plt.show()"
   ]
  },
  {
   "cell_type": "code",
   "execution_count": 102,
   "id": "cadee60b",
   "metadata": {},
   "outputs": [
    {
     "data": {
      "text/plain": [
       "Prod\n",
       "A    51288.000000\n",
       "B    61702.000000\n",
       "C    62641.333333\n",
       "D    60179.000000\n",
       "E    45071.666667\n",
       "Name: Sales, dtype: float64"
      ]
     },
     "execution_count": 102,
     "metadata": {},
     "output_type": "execute_result"
    }
   ],
   "source": [
    "a2"
   ]
  },
  {
   "cell_type": "code",
   "execution_count": 103,
   "id": "903ae34f",
   "metadata": {},
   "outputs": [
    {
     "data": {
      "text/plain": [
       "56176.4"
      ]
     },
     "execution_count": 103,
     "metadata": {},
     "output_type": "execute_result"
    }
   ],
   "source": [
    "a2.mean()  # Mean of Prod wise Avg Sales"
   ]
  },
  {
   "cell_type": "markdown",
   "id": "ddc4a20e",
   "metadata": {},
   "source": [
    "#### Depict prod wise mean sales where Prod with Sales < 56176.4 (red color) and Sales > 56176.4(Green color)"
   ]
  },
  {
   "cell_type": "code",
   "execution_count": 107,
   "id": "46fb93de",
   "metadata": {},
   "outputs": [
    {
     "name": "stdout",
     "output_type": "stream",
     "text": [
      "Prod\n",
      "B    61702.000000\n",
      "C    62641.333333\n",
      "D    60179.000000\n",
      "Name: Sales, dtype: float64\n",
      "Prod\n",
      "A    51288.000000\n",
      "E    45071.666667\n",
      "Name: Sales, dtype: float64\n"
     ]
    }
   ],
   "source": [
    "a2_high_avg = a2[a2.values> a2.mean()]\n",
    "print(a2_high_avg)\n",
    "a2_low_avg = a2[a2.values<= a2.mean()]\n",
    "print(a2_low_avg)"
   ]
  },
  {
   "cell_type": "code",
   "execution_count": null,
   "id": "c1d85cd1",
   "metadata": {},
   "outputs": [],
   "source": [
    "plt.bar(a2.index,a2.values,color='tan',edgecolor='black')"
   ]
  },
  {
   "cell_type": "code",
   "execution_count": 114,
   "id": "37457926",
   "metadata": {},
   "outputs": [
    {
     "data": {
      "image/png": "[encoded data removed]",
      "text/plain": [
       "<Figure size 640x480 with 1 Axes>"
      ]
     },
     "metadata": {},
     "output_type": "display_data"
    }
   ],
   "source": [
    "plt.bar(a2_high_avg.index,a2_high_avg.values,color='lightgreen',edgecolor='black',\n",
    "        label='High Avg Sales')\n",
    "plt.bar(a2_low_avg.index,a2_low_avg.values,color='red',\n",
    "        edgecolor='black',label='Low Avg Sales')\n",
    "plt.axhline(a2.mean())\n",
    "plt.legend(loc=4)\n",
    "plt.title('Prod with High and Low Avg Sales')\n",
    "plt.show()"
   ]
  },
  {
   "cell_type": "markdown",
   "id": "8ee94a03",
   "metadata": {},
   "source": [
    "#### Q3) Find Prod wise Region with Max Sales"
   ]
  },
  {
   "cell_type": "code",
   "execution_count": 115,
   "id": "cfe657ae",
   "metadata": {},
   "outputs": [
    {
     "data": {
      "text/html": [
       "<div>\n",
       "<style scoped>\n",
       "    .dataframe tbody tr th:only-of-type {\n",
       "        vertical-align: middle;\n",
       "    }\n",
       "\n",
       "    .dataframe tbody tr th {\n",
       "        vertical-align: top;\n",
       "    }\n",
       "\n",
       "    .dataframe thead th {\n",
       "        text-align: right;\n",
       "    }\n",
       "</style>\n",
       "<table border=\"1\" class=\"dataframe\">\n",
       "  <thead>\n",
       "    <tr style=\"text-align: right;\">\n",
       "      <th></th>\n",
       "      <th>Prod</th>\n",
       "      <th>Region</th>\n",
       "      <th>Sales</th>\n",
       "      <th>Profit_Percent</th>\n",
       "    </tr>\n",
       "  </thead>\n",
       "  <tbody>\n",
       "    <tr>\n",
       "      <th>0</th>\n",
       "      <td>A</td>\n",
       "      <td>Delhi</td>\n",
       "      <td>36925</td>\n",
       "      <td>15</td>\n",
       "    </tr>\n",
       "    <tr>\n",
       "      <th>1</th>\n",
       "      <td>A</td>\n",
       "      <td>Mumbai</td>\n",
       "      <td>42442</td>\n",
       "      <td>8</td>\n",
       "    </tr>\n",
       "    <tr>\n",
       "      <th>2</th>\n",
       "      <td>A</td>\n",
       "      <td>Chennai</td>\n",
       "      <td>74497</td>\n",
       "      <td>25</td>\n",
       "    </tr>\n",
       "    <tr>\n",
       "      <th>3</th>\n",
       "      <td>B</td>\n",
       "      <td>Delhi</td>\n",
       "      <td>78462</td>\n",
       "      <td>12</td>\n",
       "    </tr>\n",
       "    <tr>\n",
       "      <th>4</th>\n",
       "      <td>B</td>\n",
       "      <td>Mumbai</td>\n",
       "      <td>69387</td>\n",
       "      <td>23</td>\n",
       "    </tr>\n",
       "    <tr>\n",
       "      <th>5</th>\n",
       "      <td>B</td>\n",
       "      <td>Chennai</td>\n",
       "      <td>37257</td>\n",
       "      <td>14</td>\n",
       "    </tr>\n",
       "    <tr>\n",
       "      <th>6</th>\n",
       "      <td>C</td>\n",
       "      <td>Delhi</td>\n",
       "      <td>74854</td>\n",
       "      <td>11</td>\n",
       "    </tr>\n",
       "    <tr>\n",
       "      <th>7</th>\n",
       "      <td>C</td>\n",
       "      <td>Mumbai</td>\n",
       "      <td>50956</td>\n",
       "      <td>21</td>\n",
       "    </tr>\n",
       "    <tr>\n",
       "      <th>8</th>\n",
       "      <td>C</td>\n",
       "      <td>Chennai</td>\n",
       "      <td>62114</td>\n",
       "      <td>15</td>\n",
       "    </tr>\n",
       "    <tr>\n",
       "      <th>9</th>\n",
       "      <td>D</td>\n",
       "      <td>Delhi</td>\n",
       "      <td>76068</td>\n",
       "      <td>19</td>\n",
       "    </tr>\n",
       "    <tr>\n",
       "      <th>10</th>\n",
       "      <td>D</td>\n",
       "      <td>Mumbai</td>\n",
       "      <td>34082</td>\n",
       "      <td>18</td>\n",
       "    </tr>\n",
       "    <tr>\n",
       "      <th>11</th>\n",
       "      <td>D</td>\n",
       "      <td>Chennai</td>\n",
       "      <td>70387</td>\n",
       "      <td>14</td>\n",
       "    </tr>\n",
       "    <tr>\n",
       "      <th>12</th>\n",
       "      <td>E</td>\n",
       "      <td>Delhi</td>\n",
       "      <td>36429</td>\n",
       "      <td>9</td>\n",
       "    </tr>\n",
       "    <tr>\n",
       "      <th>13</th>\n",
       "      <td>E</td>\n",
       "      <td>Mumbai</td>\n",
       "      <td>31439</td>\n",
       "      <td>18</td>\n",
       "    </tr>\n",
       "    <tr>\n",
       "      <th>14</th>\n",
       "      <td>E</td>\n",
       "      <td>Chennai</td>\n",
       "      <td>67347</td>\n",
       "      <td>21</td>\n",
       "    </tr>\n",
       "  </tbody>\n",
       "</table>\n",
       "</div>"
      ],
      "text/plain": [
       "   Prod   Region  Sales  Profit_Percent\n",
       "0     A    Delhi  36925              15\n",
       "1     A   Mumbai  42442               8\n",
       "2     A  Chennai  74497              25\n",
       "3     B    Delhi  78462              12\n",
       "4     B   Mumbai  69387              23\n",
       "5     B  Chennai  37257              14\n",
       "6     C    Delhi  74854              11\n",
       "7     C   Mumbai  50956              21\n",
       "8     C  Chennai  62114              15\n",
       "9     D    Delhi  76068              19\n",
       "10    D   Mumbai  34082              18\n",
       "11    D  Chennai  70387              14\n",
       "12    E    Delhi  36429               9\n",
       "13    E   Mumbai  31439              18\n",
       "14    E  Chennai  67347              21"
      ]
     },
     "execution_count": 115,
     "metadata": {},
     "output_type": "execute_result"
    }
   ],
   "source": [
    "prod"
   ]
  },
  {
   "cell_type": "code",
   "execution_count": 124,
   "id": "739df0c3",
   "metadata": {},
   "outputs": [
    {
     "data": {
      "text/html": [
       "<div>\n",
       "<style scoped>\n",
       "    .dataframe tbody tr th:only-of-type {\n",
       "        vertical-align: middle;\n",
       "    }\n",
       "\n",
       "    .dataframe tbody tr th {\n",
       "        vertical-align: top;\n",
       "    }\n",
       "\n",
       "    .dataframe thead th {\n",
       "        text-align: right;\n",
       "    }\n",
       "</style>\n",
       "<table border=\"1\" class=\"dataframe\">\n",
       "  <thead>\n",
       "    <tr style=\"text-align: right;\">\n",
       "      <th></th>\n",
       "      <th>Prod</th>\n",
       "      <th>Sales</th>\n",
       "    </tr>\n",
       "  </thead>\n",
       "  <tbody>\n",
       "    <tr>\n",
       "      <th>0</th>\n",
       "      <td>A</td>\n",
       "      <td>74497</td>\n",
       "    </tr>\n",
       "    <tr>\n",
       "      <th>1</th>\n",
       "      <td>B</td>\n",
       "      <td>78462</td>\n",
       "    </tr>\n",
       "    <tr>\n",
       "      <th>2</th>\n",
       "      <td>C</td>\n",
       "      <td>74854</td>\n",
       "    </tr>\n",
       "    <tr>\n",
       "      <th>3</th>\n",
       "      <td>D</td>\n",
       "      <td>76068</td>\n",
       "    </tr>\n",
       "    <tr>\n",
       "      <th>4</th>\n",
       "      <td>E</td>\n",
       "      <td>67347</td>\n",
       "    </tr>\n",
       "  </tbody>\n",
       "</table>\n",
       "</div>"
      ],
      "text/plain": [
       "  Prod  Sales\n",
       "0    A  74497\n",
       "1    B  78462\n",
       "2    C  74854\n",
       "3    D  76068\n",
       "4    E  67347"
      ]
     },
     "execution_count": 124,
     "metadata": {},
     "output_type": "execute_result"
    }
   ],
   "source": [
    "a4 = prod.groupby(['Prod'])['Sales'].max().reset_index()\n",
    "a4"
   ]
  },
  {
   "cell_type": "code",
   "execution_count": 120,
   "id": "8e2bb533",
   "metadata": {},
   "outputs": [],
   "source": [
    "# Join = SQL,Pandas => inner, left, right, outer, self join"
   ]
  },
  {
   "cell_type": "code",
   "execution_count": 125,
   "id": "f3d1e200",
   "metadata": {},
   "outputs": [
    {
     "name": "stdout",
     "output_type": "stream",
     "text": [
      "Index(['Prod', 'Region', 'Sales', 'Profit_Percent'], dtype='object')\n",
      "Index(['Prod', 'Sales'], dtype='object')\n"
     ]
    }
   ],
   "source": [
    "print(prod.columns)\n",
    "print(a4.columns)"
   ]
  },
  {
   "cell_type": "code",
   "execution_count": 132,
   "id": "5084b977",
   "metadata": {},
   "outputs": [
    {
     "data": {
      "text/html": [
       "<div>\n",
       "<style scoped>\n",
       "    .dataframe tbody tr th:only-of-type {\n",
       "        vertical-align: middle;\n",
       "    }\n",
       "\n",
       "    .dataframe tbody tr th {\n",
       "        vertical-align: top;\n",
       "    }\n",
       "\n",
       "    .dataframe thead th {\n",
       "        text-align: right;\n",
       "    }\n",
       "</style>\n",
       "<table border=\"1\" class=\"dataframe\">\n",
       "  <thead>\n",
       "    <tr style=\"text-align: right;\">\n",
       "      <th></th>\n",
       "      <th>Prod</th>\n",
       "      <th>Sales_x</th>\n",
       "      <th>Region</th>\n",
       "      <th>Sales_y</th>\n",
       "      <th>Profit_Percent</th>\n",
       "    </tr>\n",
       "  </thead>\n",
       "  <tbody>\n",
       "    <tr>\n",
       "      <th>0</th>\n",
       "      <td>A</td>\n",
       "      <td>74497</td>\n",
       "      <td>Delhi</td>\n",
       "      <td>36925</td>\n",
       "      <td>15</td>\n",
       "    </tr>\n",
       "    <tr>\n",
       "      <th>1</th>\n",
       "      <td>A</td>\n",
       "      <td>74497</td>\n",
       "      <td>Mumbai</td>\n",
       "      <td>42442</td>\n",
       "      <td>8</td>\n",
       "    </tr>\n",
       "    <tr>\n",
       "      <th>2</th>\n",
       "      <td>A</td>\n",
       "      <td>74497</td>\n",
       "      <td>Chennai</td>\n",
       "      <td>74497</td>\n",
       "      <td>25</td>\n",
       "    </tr>\n",
       "    <tr>\n",
       "      <th>3</th>\n",
       "      <td>B</td>\n",
       "      <td>78462</td>\n",
       "      <td>Delhi</td>\n",
       "      <td>78462</td>\n",
       "      <td>12</td>\n",
       "    </tr>\n",
       "    <tr>\n",
       "      <th>4</th>\n",
       "      <td>B</td>\n",
       "      <td>78462</td>\n",
       "      <td>Mumbai</td>\n",
       "      <td>69387</td>\n",
       "      <td>23</td>\n",
       "    </tr>\n",
       "    <tr>\n",
       "      <th>5</th>\n",
       "      <td>B</td>\n",
       "      <td>78462</td>\n",
       "      <td>Chennai</td>\n",
       "      <td>37257</td>\n",
       "      <td>14</td>\n",
       "    </tr>\n",
       "    <tr>\n",
       "      <th>6</th>\n",
       "      <td>C</td>\n",
       "      <td>74854</td>\n",
       "      <td>Delhi</td>\n",
       "      <td>74854</td>\n",
       "      <td>11</td>\n",
       "    </tr>\n",
       "    <tr>\n",
       "      <th>7</th>\n",
       "      <td>C</td>\n",
       "      <td>74854</td>\n",
       "      <td>Mumbai</td>\n",
       "      <td>50956</td>\n",
       "      <td>21</td>\n",
       "    </tr>\n",
       "    <tr>\n",
       "      <th>8</th>\n",
       "      <td>C</td>\n",
       "      <td>74854</td>\n",
       "      <td>Chennai</td>\n",
       "      <td>62114</td>\n",
       "      <td>15</td>\n",
       "    </tr>\n",
       "    <tr>\n",
       "      <th>9</th>\n",
       "      <td>D</td>\n",
       "      <td>76068</td>\n",
       "      <td>Delhi</td>\n",
       "      <td>76068</td>\n",
       "      <td>19</td>\n",
       "    </tr>\n",
       "    <tr>\n",
       "      <th>10</th>\n",
       "      <td>D</td>\n",
       "      <td>76068</td>\n",
       "      <td>Mumbai</td>\n",
       "      <td>34082</td>\n",
       "      <td>18</td>\n",
       "    </tr>\n",
       "    <tr>\n",
       "      <th>11</th>\n",
       "      <td>D</td>\n",
       "      <td>76068</td>\n",
       "      <td>Chennai</td>\n",
       "      <td>70387</td>\n",
       "      <td>14</td>\n",
       "    </tr>\n",
       "    <tr>\n",
       "      <th>12</th>\n",
       "      <td>E</td>\n",
       "      <td>67347</td>\n",
       "      <td>Delhi</td>\n",
       "      <td>36429</td>\n",
       "      <td>9</td>\n",
       "    </tr>\n",
       "    <tr>\n",
       "      <th>13</th>\n",
       "      <td>E</td>\n",
       "      <td>67347</td>\n",
       "      <td>Mumbai</td>\n",
       "      <td>31439</td>\n",
       "      <td>18</td>\n",
       "    </tr>\n",
       "    <tr>\n",
       "      <th>14</th>\n",
       "      <td>E</td>\n",
       "      <td>67347</td>\n",
       "      <td>Chennai</td>\n",
       "      <td>67347</td>\n",
       "      <td>21</td>\n",
       "    </tr>\n",
       "  </tbody>\n",
       "</table>\n",
       "</div>"
      ],
      "text/plain": [
       "   Prod  Sales_x   Region  Sales_y  Profit_Percent\n",
       "0     A    74497    Delhi    36925              15\n",
       "1     A    74497   Mumbai    42442               8\n",
       "2     A    74497  Chennai    74497              25\n",
       "3     B    78462    Delhi    78462              12\n",
       "4     B    78462   Mumbai    69387              23\n",
       "5     B    78462  Chennai    37257              14\n",
       "6     C    74854    Delhi    74854              11\n",
       "7     C    74854   Mumbai    50956              21\n",
       "8     C    74854  Chennai    62114              15\n",
       "9     D    76068    Delhi    76068              19\n",
       "10    D    76068   Mumbai    34082              18\n",
       "11    D    76068  Chennai    70387              14\n",
       "12    E    67347    Delhi    36429               9\n",
       "13    E    67347   Mumbai    31439              18\n",
       "14    E    67347  Chennai    67347              21"
      ]
     },
     "execution_count": 132,
     "metadata": {},
     "output_type": "execute_result"
    }
   ],
   "source": [
    "# left table = a4, right_table=prod\n",
    "res = pd.merge(a4,prod,left_on='Prod',right_on='Prod',how='left')\n",
    "res"
   ]
  },
  {
   "cell_type": "code",
   "execution_count": 137,
   "id": "4bd467a8",
   "metadata": {},
   "outputs": [
    {
     "data": {
      "text/html": [
       "<div>\n",
       "<style scoped>\n",
       "    .dataframe tbody tr th:only-of-type {\n",
       "        vertical-align: middle;\n",
       "    }\n",
       "\n",
       "    .dataframe tbody tr th {\n",
       "        vertical-align: top;\n",
       "    }\n",
       "\n",
       "    .dataframe thead th {\n",
       "        text-align: right;\n",
       "    }\n",
       "</style>\n",
       "<table border=\"1\" class=\"dataframe\">\n",
       "  <thead>\n",
       "    <tr style=\"text-align: right;\">\n",
       "      <th></th>\n",
       "      <th>Prod</th>\n",
       "      <th>Region</th>\n",
       "      <th>Max_Sales</th>\n",
       "    </tr>\n",
       "  </thead>\n",
       "  <tbody>\n",
       "    <tr>\n",
       "      <th>2</th>\n",
       "      <td>A</td>\n",
       "      <td>Chennai</td>\n",
       "      <td>74497</td>\n",
       "    </tr>\n",
       "    <tr>\n",
       "      <th>3</th>\n",
       "      <td>B</td>\n",
       "      <td>Delhi</td>\n",
       "      <td>78462</td>\n",
       "    </tr>\n",
       "    <tr>\n",
       "      <th>6</th>\n",
       "      <td>C</td>\n",
       "      <td>Delhi</td>\n",
       "      <td>74854</td>\n",
       "    </tr>\n",
       "    <tr>\n",
       "      <th>9</th>\n",
       "      <td>D</td>\n",
       "      <td>Delhi</td>\n",
       "      <td>76068</td>\n",
       "    </tr>\n",
       "    <tr>\n",
       "      <th>14</th>\n",
       "      <td>E</td>\n",
       "      <td>Chennai</td>\n",
       "      <td>67347</td>\n",
       "    </tr>\n",
       "  </tbody>\n",
       "</table>\n",
       "</div>"
      ],
      "text/plain": [
       "   Prod   Region  Max_Sales\n",
       "2     A  Chennai      74497\n",
       "3     B    Delhi      78462\n",
       "6     C    Delhi      74854\n",
       "9     D    Delhi      76068\n",
       "14    E  Chennai      67347"
      ]
     },
     "execution_count": 137,
     "metadata": {},
     "output_type": "execute_result"
    }
   ],
   "source": [
    "r1 = res[res['Sales_x']==res['Sales_y']]\n",
    "r1 = r1[['Prod','Region','Sales_x']]\n",
    "r1.rename(columns={'Sales_x':'Max_Sales'},inplace=True)\n",
    "r1"
   ]
  },
  {
   "cell_type": "code",
   "execution_count": 138,
   "id": "e82271c7",
   "metadata": {},
   "outputs": [
    {
     "data": {
      "text/html": [
       "<div>\n",
       "<style scoped>\n",
       "    .dataframe tbody tr th:only-of-type {\n",
       "        vertical-align: middle;\n",
       "    }\n",
       "\n",
       "    .dataframe tbody tr th {\n",
       "        vertical-align: top;\n",
       "    }\n",
       "\n",
       "    .dataframe thead th {\n",
       "        text-align: right;\n",
       "    }\n",
       "</style>\n",
       "<table border=\"1\" class=\"dataframe\">\n",
       "  <thead>\n",
       "    <tr style=\"text-align: right;\">\n",
       "      <th></th>\n",
       "      <th>Prod</th>\n",
       "      <th>Sales</th>\n",
       "    </tr>\n",
       "  </thead>\n",
       "  <tbody>\n",
       "    <tr>\n",
       "      <th>0</th>\n",
       "      <td>A</td>\n",
       "      <td>36925</td>\n",
       "    </tr>\n",
       "    <tr>\n",
       "      <th>1</th>\n",
       "      <td>B</td>\n",
       "      <td>37257</td>\n",
       "    </tr>\n",
       "    <tr>\n",
       "      <th>2</th>\n",
       "      <td>C</td>\n",
       "      <td>50956</td>\n",
       "    </tr>\n",
       "    <tr>\n",
       "      <th>3</th>\n",
       "      <td>D</td>\n",
       "      <td>34082</td>\n",
       "    </tr>\n",
       "    <tr>\n",
       "      <th>4</th>\n",
       "      <td>E</td>\n",
       "      <td>31439</td>\n",
       "    </tr>\n",
       "  </tbody>\n",
       "</table>\n",
       "</div>"
      ],
      "text/plain": [
       "  Prod  Sales\n",
       "0    A  36925\n",
       "1    B  37257\n",
       "2    C  50956\n",
       "3    D  34082\n",
       "4    E  31439"
      ]
     },
     "execution_count": 138,
     "metadata": {},
     "output_type": "execute_result"
    }
   ],
   "source": [
    "a5 = prod.groupby(['Prod'])['Sales'].min().reset_index()\n",
    "a5"
   ]
  },
  {
   "cell_type": "code",
   "execution_count": 141,
   "id": "86df04d0",
   "metadata": {},
   "outputs": [
    {
     "data": {
      "text/html": [
       "<div>\n",
       "<style scoped>\n",
       "    .dataframe tbody tr th:only-of-type {\n",
       "        vertical-align: middle;\n",
       "    }\n",
       "\n",
       "    .dataframe tbody tr th {\n",
       "        vertical-align: top;\n",
       "    }\n",
       "\n",
       "    .dataframe thead th {\n",
       "        text-align: right;\n",
       "    }\n",
       "</style>\n",
       "<table border=\"1\" class=\"dataframe\">\n",
       "  <thead>\n",
       "    <tr style=\"text-align: right;\">\n",
       "      <th></th>\n",
       "      <th>Prod</th>\n",
       "      <th>Region</th>\n",
       "      <th>Min_Sales</th>\n",
       "    </tr>\n",
       "  </thead>\n",
       "  <tbody>\n",
       "    <tr>\n",
       "      <th>0</th>\n",
       "      <td>A</td>\n",
       "      <td>Delhi</td>\n",
       "      <td>36925</td>\n",
       "    </tr>\n",
       "    <tr>\n",
       "      <th>5</th>\n",
       "      <td>B</td>\n",
       "      <td>Chennai</td>\n",
       "      <td>37257</td>\n",
       "    </tr>\n",
       "    <tr>\n",
       "      <th>7</th>\n",
       "      <td>C</td>\n",
       "      <td>Mumbai</td>\n",
       "      <td>50956</td>\n",
       "    </tr>\n",
       "    <tr>\n",
       "      <th>10</th>\n",
       "      <td>D</td>\n",
       "      <td>Mumbai</td>\n",
       "      <td>34082</td>\n",
       "    </tr>\n",
       "    <tr>\n",
       "      <th>13</th>\n",
       "      <td>E</td>\n",
       "      <td>Mumbai</td>\n",
       "      <td>31439</td>\n",
       "    </tr>\n",
       "  </tbody>\n",
       "</table>\n",
       "</div>"
      ],
      "text/plain": [
       "   Prod   Region  Min_Sales\n",
       "0     A    Delhi      36925\n",
       "5     B  Chennai      37257\n",
       "7     C   Mumbai      50956\n",
       "10    D   Mumbai      34082\n",
       "13    E   Mumbai      31439"
      ]
     },
     "execution_count": 141,
     "metadata": {},
     "output_type": "execute_result"
    }
   ],
   "source": [
    "res1 = pd.merge(a5,prod,left_on='Prod',right_on='Prod',how='left')\n",
    "r2 = res1[res1['Sales_x']==res1['Sales_y']]\n",
    "r2 = r2[['Prod','Region','Sales_x']]\n",
    "r2.rename(columns={'Sales_x':'Min_Sales'},inplace=True)\n",
    "r2"
   ]
  },
  {
   "cell_type": "code",
   "execution_count": 142,
   "id": "90a8f66d",
   "metadata": {},
   "outputs": [
    {
     "data": {
      "text/html": [
       "<div>\n",
       "<style scoped>\n",
       "    .dataframe tbody tr th:only-of-type {\n",
       "        vertical-align: middle;\n",
       "    }\n",
       "\n",
       "    .dataframe tbody tr th {\n",
       "        vertical-align: top;\n",
       "    }\n",
       "\n",
       "    .dataframe thead th {\n",
       "        text-align: right;\n",
       "    }\n",
       "</style>\n",
       "<table border=\"1\" class=\"dataframe\">\n",
       "  <thead>\n",
       "    <tr style=\"text-align: right;\">\n",
       "      <th></th>\n",
       "      <th>Prod</th>\n",
       "      <th>Region</th>\n",
       "      <th>Max_Sales</th>\n",
       "    </tr>\n",
       "  </thead>\n",
       "  <tbody>\n",
       "    <tr>\n",
       "      <th>2</th>\n",
       "      <td>A</td>\n",
       "      <td>Chennai</td>\n",
       "      <td>74497</td>\n",
       "    </tr>\n",
       "    <tr>\n",
       "      <th>3</th>\n",
       "      <td>B</td>\n",
       "      <td>Delhi</td>\n",
       "      <td>78462</td>\n",
       "    </tr>\n",
       "    <tr>\n",
       "      <th>6</th>\n",
       "      <td>C</td>\n",
       "      <td>Delhi</td>\n",
       "      <td>74854</td>\n",
       "    </tr>\n",
       "    <tr>\n",
       "      <th>9</th>\n",
       "      <td>D</td>\n",
       "      <td>Delhi</td>\n",
       "      <td>76068</td>\n",
       "    </tr>\n",
       "    <tr>\n",
       "      <th>14</th>\n",
       "      <td>E</td>\n",
       "      <td>Chennai</td>\n",
       "      <td>67347</td>\n",
       "    </tr>\n",
       "  </tbody>\n",
       "</table>\n",
       "</div>"
      ],
      "text/plain": [
       "   Prod   Region  Max_Sales\n",
       "2     A  Chennai      74497\n",
       "3     B    Delhi      78462\n",
       "6     C    Delhi      74854\n",
       "9     D    Delhi      76068\n",
       "14    E  Chennai      67347"
      ]
     },
     "execution_count": 142,
     "metadata": {},
     "output_type": "execute_result"
    }
   ],
   "source": [
    "r1"
   ]
  },
  {
   "cell_type": "code",
   "execution_count": 146,
   "id": "c21cd349",
   "metadata": {},
   "outputs": [
    {
     "data": {
      "image/png": "[encoded data removed]",
      "text/plain": [
       "<Figure size 640x480 with 1 Axes>"
      ]
     },
     "metadata": {},
     "output_type": "display_data"
    }
   ],
   "source": [
    "plt.bar(r1['Prod'],r1['Max_Sales'],color='orange',edgecolor='black',label='Max_Sales')\n",
    "plt.bar(r2['Prod'],r2['Min_Sales'],color='lightgreen',edgecolor='black',label='Min_Sales')\n",
    "plt.legend(loc=5)\n",
    "plt.show()"
   ]
  },
  {
   "cell_type": "markdown",
   "id": "bd3c2c8f",
   "metadata": {},
   "source": []
  },
  {
   "cell_type": "markdown",
   "id": "8baf78ae",
   "metadata": {},
   "source": [
    "#### Exercise\n",
    "\n",
    "#### Q1) Find a way to display labels in Matplotlib on \n",
    "a) Simple Bar Chart<br>\n",
    "b) Stacked Bar Chart<br>\n",
    "c) Clustered Bar Chart\n",
    "\n",
    "#### Q2) Find percentage contrubtion of each region Sales to Total Sales for that prod. Solve using a function where prod is passed as argument.\n"
   ]
  },
  {
   "cell_type": "code",
   "execution_count": 147,
   "id": "6c460ecf",
   "metadata": {},
   "outputs": [
    {
     "data": {
      "text/html": [
       "<div>\n",
       "<style scoped>\n",
       "    .dataframe tbody tr th:only-of-type {\n",
       "        vertical-align: middle;\n",
       "    }\n",
       "\n",
       "    .dataframe tbody tr th {\n",
       "        vertical-align: top;\n",
       "    }\n",
       "\n",
       "    .dataframe thead th {\n",
       "        text-align: right;\n",
       "    }\n",
       "</style>\n",
       "<table border=\"1\" class=\"dataframe\">\n",
       "  <thead>\n",
       "    <tr style=\"text-align: right;\">\n",
       "      <th></th>\n",
       "      <th>Prod</th>\n",
       "      <th>Region</th>\n",
       "      <th>Sales</th>\n",
       "      <th>Profit_Percent</th>\n",
       "    </tr>\n",
       "  </thead>\n",
       "  <tbody>\n",
       "    <tr>\n",
       "      <th>0</th>\n",
       "      <td>A</td>\n",
       "      <td>Delhi</td>\n",
       "      <td>36925</td>\n",
       "      <td>15</td>\n",
       "    </tr>\n",
       "    <tr>\n",
       "      <th>1</th>\n",
       "      <td>A</td>\n",
       "      <td>Mumbai</td>\n",
       "      <td>42442</td>\n",
       "      <td>8</td>\n",
       "    </tr>\n",
       "    <tr>\n",
       "      <th>2</th>\n",
       "      <td>A</td>\n",
       "      <td>Chennai</td>\n",
       "      <td>74497</td>\n",
       "      <td>25</td>\n",
       "    </tr>\n",
       "    <tr>\n",
       "      <th>3</th>\n",
       "      <td>B</td>\n",
       "      <td>Delhi</td>\n",
       "      <td>78462</td>\n",
       "      <td>12</td>\n",
       "    </tr>\n",
       "    <tr>\n",
       "      <th>4</th>\n",
       "      <td>B</td>\n",
       "      <td>Mumbai</td>\n",
       "      <td>69387</td>\n",
       "      <td>23</td>\n",
       "    </tr>\n",
       "    <tr>\n",
       "      <th>5</th>\n",
       "      <td>B</td>\n",
       "      <td>Chennai</td>\n",
       "      <td>37257</td>\n",
       "      <td>14</td>\n",
       "    </tr>\n",
       "    <tr>\n",
       "      <th>6</th>\n",
       "      <td>C</td>\n",
       "      <td>Delhi</td>\n",
       "      <td>74854</td>\n",
       "      <td>11</td>\n",
       "    </tr>\n",
       "    <tr>\n",
       "      <th>7</th>\n",
       "      <td>C</td>\n",
       "      <td>Mumbai</td>\n",
       "      <td>50956</td>\n",
       "      <td>21</td>\n",
       "    </tr>\n",
       "    <tr>\n",
       "      <th>8</th>\n",
       "      <td>C</td>\n",
       "      <td>Chennai</td>\n",
       "      <td>62114</td>\n",
       "      <td>15</td>\n",
       "    </tr>\n",
       "    <tr>\n",
       "      <th>9</th>\n",
       "      <td>D</td>\n",
       "      <td>Delhi</td>\n",
       "      <td>76068</td>\n",
       "      <td>19</td>\n",
       "    </tr>\n",
       "    <tr>\n",
       "      <th>10</th>\n",
       "      <td>D</td>\n",
       "      <td>Mumbai</td>\n",
       "      <td>34082</td>\n",
       "      <td>18</td>\n",
       "    </tr>\n",
       "    <tr>\n",
       "      <th>11</th>\n",
       "      <td>D</td>\n",
       "      <td>Chennai</td>\n",
       "      <td>70387</td>\n",
       "      <td>14</td>\n",
       "    </tr>\n",
       "    <tr>\n",
       "      <th>12</th>\n",
       "      <td>E</td>\n",
       "      <td>Delhi</td>\n",
       "      <td>36429</td>\n",
       "      <td>9</td>\n",
       "    </tr>\n",
       "    <tr>\n",
       "      <th>13</th>\n",
       "      <td>E</td>\n",
       "      <td>Mumbai</td>\n",
       "      <td>31439</td>\n",
       "      <td>18</td>\n",
       "    </tr>\n",
       "    <tr>\n",
       "      <th>14</th>\n",
       "      <td>E</td>\n",
       "      <td>Chennai</td>\n",
       "      <td>67347</td>\n",
       "      <td>21</td>\n",
       "    </tr>\n",
       "  </tbody>\n",
       "</table>\n",
       "</div>"
      ],
      "text/plain": [
       "   Prod   Region  Sales  Profit_Percent\n",
       "0     A    Delhi  36925              15\n",
       "1     A   Mumbai  42442               8\n",
       "2     A  Chennai  74497              25\n",
       "3     B    Delhi  78462              12\n",
       "4     B   Mumbai  69387              23\n",
       "5     B  Chennai  37257              14\n",
       "6     C    Delhi  74854              11\n",
       "7     C   Mumbai  50956              21\n",
       "8     C  Chennai  62114              15\n",
       "9     D    Delhi  76068              19\n",
       "10    D   Mumbai  34082              18\n",
       "11    D  Chennai  70387              14\n",
       "12    E    Delhi  36429               9\n",
       "13    E   Mumbai  31439              18\n",
       "14    E  Chennai  67347              21"
      ]
     },
     "execution_count": 147,
     "metadata": {},
     "output_type": "execute_result"
    }
   ],
   "source": [
    "prod"
   ]
  },
  {
   "cell_type": "code",
   "execution_count": 152,
   "id": "8f8a3d85",
   "metadata": {},
   "outputs": [
    {
     "data": {
      "text/html": [
       "<div>\n",
       "<style scoped>\n",
       "    .dataframe tbody tr th:only-of-type {\n",
       "        vertical-align: middle;\n",
       "    }\n",
       "\n",
       "    .dataframe tbody tr th {\n",
       "        vertical-align: top;\n",
       "    }\n",
       "\n",
       "    .dataframe thead th {\n",
       "        text-align: right;\n",
       "    }\n",
       "</style>\n",
       "<table border=\"1\" class=\"dataframe\">\n",
       "  <thead>\n",
       "    <tr style=\"text-align: right;\">\n",
       "      <th></th>\n",
       "      <th>Prod</th>\n",
       "      <th>Sales</th>\n",
       "    </tr>\n",
       "  </thead>\n",
       "  <tbody>\n",
       "    <tr>\n",
       "      <th>0</th>\n",
       "      <td>A</td>\n",
       "      <td>153864</td>\n",
       "    </tr>\n",
       "    <tr>\n",
       "      <th>1</th>\n",
       "      <td>B</td>\n",
       "      <td>185106</td>\n",
       "    </tr>\n",
       "    <tr>\n",
       "      <th>2</th>\n",
       "      <td>C</td>\n",
       "      <td>187924</td>\n",
       "    </tr>\n",
       "    <tr>\n",
       "      <th>3</th>\n",
       "      <td>D</td>\n",
       "      <td>180537</td>\n",
       "    </tr>\n",
       "    <tr>\n",
       "      <th>4</th>\n",
       "      <td>E</td>\n",
       "      <td>135215</td>\n",
       "    </tr>\n",
       "  </tbody>\n",
       "</table>\n",
       "</div>"
      ],
      "text/plain": [
       "  Prod   Sales\n",
       "0    A  153864\n",
       "1    B  185106\n",
       "2    C  187924\n",
       "3    D  180537\n",
       "4    E  135215"
      ]
     },
     "execution_count": 152,
     "metadata": {},
     "output_type": "execute_result"
    }
   ],
   "source": [
    "a6 = prod.groupby(['Prod'])['Sales'].sum().reset_index()\n",
    "a6"
   ]
  },
  {
   "cell_type": "code",
   "execution_count": 154,
   "id": "60f82786",
   "metadata": {},
   "outputs": [
    {
     "data": {
      "text/plain": [
       "153864"
      ]
     },
     "execution_count": 154,
     "metadata": {},
     "output_type": "execute_result"
    }
   ],
   "source": [
    "36925+42442+74497"
   ]
  },
  {
   "cell_type": "code",
   "execution_count": 156,
   "id": "ec820fab",
   "metadata": {},
   "outputs": [
    {
     "name": "stdout",
     "output_type": "stream",
     "text": [
      "23.998466177923362\n",
      "27.58410024437165\n",
      "48.41743357770499\n"
     ]
    }
   ],
   "source": [
    "print((36925/153864)*100)\n",
    "print((42442/153864)*100)\n",
    "print((74497/153864)*100)"
   ]
  },
  {
   "cell_type": "code",
   "execution_count": null,
   "id": "802467f0",
   "metadata": {},
   "outputs": [],
   "source": [
    "def region_wise_percent_contri(product):\n",
    "    "
   ]
  },
  {
   "cell_type": "code",
   "execution_count": null,
   "id": "6f37aa7d",
   "metadata": {},
   "outputs": [],
   "source": [
    "# Excel, SQL, Pandas, Python, ML, Chatgpt "
   ]
  },
  {
   "cell_type": "markdown",
   "id": "4c77e9e1",
   "metadata": {},
   "source": [
    "#### Scatter Chart"
   ]
  },
  {
   "cell_type": "code",
   "execution_count": null,
   "id": "1cbec613",
   "metadata": {},
   "outputs": [],
   "source": []
  }
 ],
 "metadata": {
  "kernelspec": {
   "display_name": "Python 3 (ipykernel)",
   "language": "python",
   "name": "python3"
  },
  "language_info": {
   "codemirror_mode": {
    "name": "ipython",
    "version": 3
   },
   "file_extension": ".py",
   "mimetype": "text/x-python",
   "name": "python",
   "nbconvert_exporter": "python",
   "pygments_lexer": "ipython3",
   "version": "3.9.13"
  }
 },
 "nbformat": 4,
 "nbformat_minor": 5
}
