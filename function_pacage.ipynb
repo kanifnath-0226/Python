{
 "cells": [
  {
   "cell_type": "code",
   "execution_count": 2,
   "metadata": {},
   "outputs": [
    {
     "name": "stdout",
     "output_type": "stream",
     "text": [
      "572.9577951308232\n"
     ]
    }
   ],
   "source": [
    "# Q1) Write  a python code to convert radian into degree and vice versa.\n",
    "\n",
    "import math \n",
    "\n",
    "def radian_deg(radian):\n",
    "    degree = radian * (180/math.pi)\n",
    "    return degree\n",
    "\n",
    "radian_num = int(input(\"ENter the radian number if you want to convert in to the degree\"))\n",
    "result = radian_deg(radian_num)\n",
    "print(result)"
   ]
  },
  {
   "cell_type": "code",
   "execution_count": 4,
   "metadata": {},
   "outputs": [
    {
     "name": "stdout",
     "output_type": "stream",
     "text": [
      "the letter p occurs 2 times.\n",
      "the letter y occurs 2 times.\n",
      "the letter h occurs 1 times.\n",
      "the letter t occurs 3 times.\n",
      "the letter o occurs 4 times.\n",
      "the letter n occurs 2 times.\n",
      "the letter j occurs 1 times.\n",
      "the letter u occurs 1 times.\n",
      "the letter e occurs 2 times.\n",
      "the letter r occurs 1 times.\n",
      "the letter b occurs 1 times.\n",
      "the letter k occurs 1 times.\n"
     ]
    }
   ],
   "source": [
    "# Q2) Write a pyhton program to find the occurence of each letter in the given text\n",
    "\n",
    "s ='pyhtonjupyternotebook'\n",
    "letter_occurence = {}\n",
    "\n",
    "for letter in s:\n",
    "    if letter in letter_occurence:\n",
    "        letter_occurence[letter] += 1\n",
    "    else:\n",
    "        letter_occurence[letter] = 1\n",
    "\n",
    "for letter, count in letter_occurence.items():\n",
    "    print(f\"the letter {letter} occurs {count} times.\")"
   ]
  },
  {
   "cell_type": "code",
   "execution_count": null,
   "metadata": {},
   "outputs": [],
   "source": []
  }
 ],
 "metadata": {
  "kernelspec": {
   "display_name": "Python 3",
   "language": "python",
   "name": "python3"
  },
  "language_info": {
   "codemirror_mode": {
    "name": "ipython",
    "version": 3
   },
   "file_extension": ".py",
   "mimetype": "text/x-python",
   "name": "python",
   "nbconvert_exporter": "python",
   "pygments_lexer": "ipython3",
   "version": "3.12.0"
  }
 },
 "nbformat": 4,
 "nbformat_minor": 2
}
